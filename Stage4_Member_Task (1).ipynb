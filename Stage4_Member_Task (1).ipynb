{
 "cells": [
  {
   "cell_type": "code",
   "execution_count": 1,
   "id": "8cb0ae0e",
   "metadata": {},
   "outputs": [],
   "source": [
    "import pandas as pd\n",
    "import numpy as np\n",
    "import plotly.express as px\n",
    "\n",
    "\n",
    "from jupyter_dash import JupyterDash\n",
    "from dash import dcc, html, Input, Output, no_update\n",
    "import plotly.express as px\n",
    "import dash_bootstrap_components as dbc\n",
    "from dash import Dash, dash_table\n",
    "\n",
    "from urllib.request import urlopen\n",
    "import json\n",
    "\n",
    "from dash import Dash, dash_table\n",
    "import warnings\n",
    "warnings.filterwarnings('ignore')"
   ]
  },
  {
   "cell_type": "markdown",
   "id": "3e68538a",
   "metadata": {},
   "source": [
    "### Read the super data "
   ]
  },
  {
   "cell_type": "code",
   "execution_count": 2,
   "id": "7f68e4ce",
   "metadata": {},
   "outputs": [],
   "source": [
    "super_df = pd.read_csv(\"../../../../data/stage_3/super_df.csv\")"
   ]
  },
  {
   "cell_type": "markdown",
   "id": "6ea41d56",
   "metadata": {},
   "source": [
    "### I am creating a sub dataset of the original as there are two many columns and I want to highlight only few columns for better analysis and visualisation"
   ]
  },
  {
   "cell_type": "code",
   "execution_count": 3,
   "id": "4a52c165",
   "metadata": {},
   "outputs": [],
   "source": [
    "data = super_df[['County', 'State' ,'Norm_deaths'  , 'County Code', 'Drug overdose deaths raw value', 'Premature death raw value', 'Injury deaths raw value', 'Adult smoking raw value' , 'Excessive drinking raw value', 'Firearm fatalities raw value' , 'Insufficient sleep raw value',  'Unemployment raw value', 'Life expectancy raw value',  'Homicides raw value','Violent crime raw value' , 'Population']]"
   ]
  },
  {
   "cell_type": "markdown",
   "id": "1c575e43",
   "metadata": {},
   "source": [
    "### Normalizing the variables of interest by dividing with the population column and multiplying by 100000 to get per 100,000 population"
   ]
  },
  {
   "cell_type": "code",
   "execution_count": 4,
   "id": "5da0bd41",
   "metadata": {},
   "outputs": [],
   "source": [
    "data['Drug_overdose_deaths_raw_value_Norm'] = (data['Drug overdose deaths raw value']/super_df['Population'] * 100000)\n",
    "data['Injury_deaths_raw_value_Norm'] = (data['Injury deaths raw value']/super_df['Population'] * 100000)\n",
    "data['Adult_smoking_raw_value_Norm'] = (data['Adult smoking raw value']/super_df['Population'] * 100000)\n",
    "data['Firearm_fatalities_raw_value_Norm'] = (data['Firearm fatalities raw value']/super_df['Population'] * 100000)\n",
    "data['Insufficient_sleep_raw_value_Norm'] = (data['Insufficient sleep raw value']/super_df['Population'] * 100000)\n",
    "\n",
    "data['Premature_death_raw_value_Norm'] = (data['Premature death raw value']/super_df['Population'] * 100000)\n",
    "data['Excessive_drinking_raw_value_Norm'] = (data['Excessive drinking raw value']/super_df['Population'] * 100000)\n",
    "data['Unemployment_raw_value_Norm'] = (data['Unemployment raw value']/super_df['Population'] * 100000)\n",
    "data['Life_expectancy_raw_value_Norm'] = (data['Life expectancy raw value']/super_df['Population'] * 100000)\n",
    "data['Homicides_raw_value_Norm'] = (data['Homicides raw value']/super_df['Population'] * 100000)\n",
    "data['Violent_crime_raw_value_Norm'] = (data['Violent crime raw value']/super_df['Population'] * 100000)"
   ]
  },
  {
   "cell_type": "code",
   "execution_count": 5,
   "id": "c096ef5f",
   "metadata": {},
   "outputs": [
    {
     "data": {
      "text/html": [
       "<div>\n",
       "<style scoped>\n",
       "    .dataframe tbody tr th:only-of-type {\n",
       "        vertical-align: middle;\n",
       "    }\n",
       "\n",
       "    .dataframe tbody tr th {\n",
       "        vertical-align: top;\n",
       "    }\n",
       "\n",
       "    .dataframe thead th {\n",
       "        text-align: right;\n",
       "    }\n",
       "</style>\n",
       "<table border=\"1\" class=\"dataframe\">\n",
       "  <thead>\n",
       "    <tr style=\"text-align: right;\">\n",
       "      <th></th>\n",
       "      <th>County</th>\n",
       "      <th>State</th>\n",
       "      <th>Norm_deaths</th>\n",
       "      <th>County Code</th>\n",
       "      <th>Drug overdose deaths raw value</th>\n",
       "      <th>Premature death raw value</th>\n",
       "      <th>Injury deaths raw value</th>\n",
       "      <th>Adult smoking raw value</th>\n",
       "      <th>Excessive drinking raw value</th>\n",
       "      <th>Firearm fatalities raw value</th>\n",
       "      <th>...</th>\n",
       "      <th>Injury_deaths_raw_value_Norm</th>\n",
       "      <th>Adult_smoking_raw_value_Norm</th>\n",
       "      <th>Firearm_fatalities_raw_value_Norm</th>\n",
       "      <th>Insufficient_sleep_raw_value_Norm</th>\n",
       "      <th>Premature_death_raw_value_Norm</th>\n",
       "      <th>Excessive_drinking_raw_value_Norm</th>\n",
       "      <th>Unemployment_raw_value_Norm</th>\n",
       "      <th>Life_expectancy_raw_value_Norm</th>\n",
       "      <th>Homicides_raw_value_Norm</th>\n",
       "      <th>Violent_crime_raw_value_Norm</th>\n",
       "    </tr>\n",
       "  </thead>\n",
       "  <tbody>\n",
       "    <tr>\n",
       "      <th>0</th>\n",
       "      <td>Abbeville County, SC</td>\n",
       "      <td>SC</td>\n",
       "      <td>7.0</td>\n",
       "      <td>45001</td>\n",
       "      <td>17.443577</td>\n",
       "      <td>9517.898548</td>\n",
       "      <td>83.535478</td>\n",
       "      <td>0.174334</td>\n",
       "      <td>0.156044</td>\n",
       "      <td>23.3</td>\n",
       "      <td>...</td>\n",
       "      <td>15.602763</td>\n",
       "      <td>0.032562</td>\n",
       "      <td>4.351976</td>\n",
       "      <td>0.067397</td>\n",
       "      <td>1777.753848</td>\n",
       "      <td>0.029146</td>\n",
       "      <td>0.008560</td>\n",
       "      <td>14.201716</td>\n",
       "      <td>1.494241</td>\n",
       "      <td>63.728072</td>\n",
       "    </tr>\n",
       "    <tr>\n",
       "      <th>1</th>\n",
       "      <td>Acadia Parish, LA</td>\n",
       "      <td>LA</td>\n",
       "      <td>19.0</td>\n",
       "      <td>22001</td>\n",
       "      <td>13.843631</td>\n",
       "      <td>10194.322670</td>\n",
       "      <td>79.039494</td>\n",
       "      <td>0.210474</td>\n",
       "      <td>0.190483</td>\n",
       "      <td>21.1</td>\n",
       "      <td>...</td>\n",
       "      <td>6.176278</td>\n",
       "      <td>0.016447</td>\n",
       "      <td>1.648789</td>\n",
       "      <td>0.025285</td>\n",
       "      <td>796.601359</td>\n",
       "      <td>0.014885</td>\n",
       "      <td>0.004617</td>\n",
       "      <td>5.875374</td>\n",
       "      <td>0.804859</td>\n",
       "      <td>34.648551</td>\n",
       "    </tr>\n",
       "    <tr>\n",
       "      <th>2</th>\n",
       "      <td>Accomack County, VA</td>\n",
       "      <td>VA</td>\n",
       "      <td>11.0</td>\n",
       "      <td>51001</td>\n",
       "      <td>11.171482</td>\n",
       "      <td>10459.767290</td>\n",
       "      <td>82.000073</td>\n",
       "      <td>0.164887</td>\n",
       "      <td>0.151416</td>\n",
       "      <td>18.2</td>\n",
       "      <td>...</td>\n",
       "      <td>11.291836</td>\n",
       "      <td>0.022706</td>\n",
       "      <td>2.506235</td>\n",
       "      <td>0.050607</td>\n",
       "      <td>1440.364325</td>\n",
       "      <td>0.020851</td>\n",
       "      <td>0.006640</td>\n",
       "      <td>10.457706</td>\n",
       "      <td>1.721315</td>\n",
       "      <td>31.103196</td>\n",
       "    </tr>\n",
       "    <tr>\n",
       "      <th>3</th>\n",
       "      <td>Ada County, ID</td>\n",
       "      <td>ID</td>\n",
       "      <td>12.0</td>\n",
       "      <td>16001</td>\n",
       "      <td>13.706962</td>\n",
       "      <td>5027.391209</td>\n",
       "      <td>59.693597</td>\n",
       "      <td>0.117813</td>\n",
       "      <td>0.193106</td>\n",
       "      <td>11.7</td>\n",
       "      <td>...</td>\n",
       "      <td>0.738467</td>\n",
       "      <td>0.001457</td>\n",
       "      <td>0.144740</td>\n",
       "      <td>0.003253</td>\n",
       "      <td>62.193617</td>\n",
       "      <td>0.002389</td>\n",
       "      <td>0.000344</td>\n",
       "      <td>0.998518</td>\n",
       "      <td>0.018556</td>\n",
       "      <td>2.853156</td>\n",
       "    </tr>\n",
       "    <tr>\n",
       "      <th>4</th>\n",
       "      <td>Adair County, KY</td>\n",
       "      <td>KY</td>\n",
       "      <td>11.0</td>\n",
       "      <td>21001</td>\n",
       "      <td>NaN</td>\n",
       "      <td>9140.796987</td>\n",
       "      <td>88.793248</td>\n",
       "      <td>0.232604</td>\n",
       "      <td>0.145439</td>\n",
       "      <td>11.5</td>\n",
       "      <td>...</td>\n",
       "      <td>22.887807</td>\n",
       "      <td>0.059957</td>\n",
       "      <td>2.964300</td>\n",
       "      <td>0.093850</td>\n",
       "      <td>2356.179143</td>\n",
       "      <td>0.037489</td>\n",
       "      <td>0.016322</td>\n",
       "      <td>19.704959</td>\n",
       "      <td>NaN</td>\n",
       "      <td>10.208522</td>\n",
       "    </tr>\n",
       "  </tbody>\n",
       "</table>\n",
       "<p>5 rows × 27 columns</p>\n",
       "</div>"
      ],
      "text/plain": [
       "                 County State  Norm_deaths  County Code  \\\n",
       "0  Abbeville County, SC    SC          7.0        45001   \n",
       "1     Acadia Parish, LA    LA         19.0        22001   \n",
       "2   Accomack County, VA    VA         11.0        51001   \n",
       "3        Ada County, ID    ID         12.0        16001   \n",
       "4      Adair County, KY    KY         11.0        21001   \n",
       "\n",
       "   Drug overdose deaths raw value  Premature death raw value  \\\n",
       "0                       17.443577                9517.898548   \n",
       "1                       13.843631               10194.322670   \n",
       "2                       11.171482               10459.767290   \n",
       "3                       13.706962                5027.391209   \n",
       "4                             NaN                9140.796987   \n",
       "\n",
       "   Injury deaths raw value  Adult smoking raw value  \\\n",
       "0                83.535478                 0.174334   \n",
       "1                79.039494                 0.210474   \n",
       "2                82.000073                 0.164887   \n",
       "3                59.693597                 0.117813   \n",
       "4                88.793248                 0.232604   \n",
       "\n",
       "   Excessive drinking raw value  Firearm fatalities raw value  ...  \\\n",
       "0                      0.156044                          23.3  ...   \n",
       "1                      0.190483                          21.1  ...   \n",
       "2                      0.151416                          18.2  ...   \n",
       "3                      0.193106                          11.7  ...   \n",
       "4                      0.145439                          11.5  ...   \n",
       "\n",
       "   Injury_deaths_raw_value_Norm  Adult_smoking_raw_value_Norm  \\\n",
       "0                     15.602763                      0.032562   \n",
       "1                      6.176278                      0.016447   \n",
       "2                     11.291836                      0.022706   \n",
       "3                      0.738467                      0.001457   \n",
       "4                     22.887807                      0.059957   \n",
       "\n",
       "   Firearm_fatalities_raw_value_Norm  Insufficient_sleep_raw_value_Norm  \\\n",
       "0                           4.351976                           0.067397   \n",
       "1                           1.648789                           0.025285   \n",
       "2                           2.506235                           0.050607   \n",
       "3                           0.144740                           0.003253   \n",
       "4                           2.964300                           0.093850   \n",
       "\n",
       "   Premature_death_raw_value_Norm  Excessive_drinking_raw_value_Norm  \\\n",
       "0                     1777.753848                           0.029146   \n",
       "1                      796.601359                           0.014885   \n",
       "2                     1440.364325                           0.020851   \n",
       "3                       62.193617                           0.002389   \n",
       "4                     2356.179143                           0.037489   \n",
       "\n",
       "   Unemployment_raw_value_Norm  Life_expectancy_raw_value_Norm  \\\n",
       "0                     0.008560                       14.201716   \n",
       "1                     0.004617                        5.875374   \n",
       "2                     0.006640                       10.457706   \n",
       "3                     0.000344                        0.998518   \n",
       "4                     0.016322                       19.704959   \n",
       "\n",
       "   Homicides_raw_value_Norm  Violent_crime_raw_value_Norm  \n",
       "0                  1.494241                     63.728072  \n",
       "1                  0.804859                     34.648551  \n",
       "2                  1.721315                     31.103196  \n",
       "3                  0.018556                      2.853156  \n",
       "4                       NaN                     10.208522  \n",
       "\n",
       "[5 rows x 27 columns]"
      ]
     },
     "execution_count": 5,
     "metadata": {},
     "output_type": "execute_result"
    }
   ],
   "source": [
    "data.head(5)"
   ]
  },
  {
   "cell_type": "code",
   "execution_count": 6,
   "id": "a24cb31f",
   "metadata": {},
   "outputs": [],
   "source": [
    "#Fill the NAN values with 0.0001 \n",
    "data = data.fillna(0.0001)"
   ]
  },
  {
   "cell_type": "markdown",
   "id": "762da72b",
   "metadata": {},
   "source": [
    "#### To plot the log values of the variables its necessary to get the log of the values and for this task I am using np.log() \n",
    "* https://numpy.org/doc/stable/reference/generated/numpy.log.html"
   ]
  },
  {
   "cell_type": "code",
   "execution_count": 7,
   "id": "77f0934b",
   "metadata": {},
   "outputs": [],
   "source": [
    "data[\"Norm_deaths_log\"] = np.log(data[\"Norm_deaths\"])\n",
    "data['Drug_overdose_deaths_raw_value_log'] = np.log(data['Drug overdose deaths raw value'])\n",
    "data[\"Injury_deaths_raw_value_log\"] = np.log(data[\"Injury deaths raw value\"])\n",
    "data[\"Adult_smoking_raw_value_log\"] = np.log(data[\"Adult smoking raw value\"])\n",
    "data[\"Firearm_fatalities_raw_value_log\"] = np.log(data[\"Firearm fatalities raw value\"])\n",
    "data[\"Insufficient_sleep_raw_value_log\"] = np.log(data[\"Insufficient sleep raw value\"])\n",
    "\n",
    "data[\"Premature_death_raw_value_log\"] = np.log(data[\"Premature death raw value\"])\n",
    "data[\"Excessive_drinking_raw_value_log\"] = np.log(data[\"Excessive drinking raw value\"])\n",
    "data[\"Unemployment_raw_value_log\"] = np.log(data[\"Unemployment raw value\"])\n",
    "data[\"Life_expectancy_raw_value_log\"] = np.log(data[\"Life expectancy raw value\"])\n",
    "data[\"Homicides_raw_value_log\"] = np.log(data[\"Homicides raw value\"])\n",
    "data['Violent_crime_raw_value_log'] = np.log(data['Violent crime raw value'])"
   ]
  },
  {
   "cell_type": "markdown",
   "id": "586b8b7d",
   "metadata": {},
   "source": [
    "#### From the above data I want to get the unique states so that this will help us to create a dropdown for states variable. Also I am creating a variables dataframe so that it does not contain information like deaths , state , county as I want only the variabes of interest to be filtered from the original dataframe.  "
   ]
  },
  {
   "cell_type": "code",
   "execution_count": 8,
   "id": "8d96db06",
   "metadata": {},
   "outputs": [],
   "source": [
    "states = data.State.unique()\n",
    "\n",
    "#remove state and norm_deaths from the columns\n",
    "variables = data[['Drug_overdose_deaths_raw_value_Norm',\n",
    " 'Injury_deaths_raw_value_Norm',\n",
    " 'Adult_smoking_raw_value_Norm',\n",
    " 'Firearm_fatalities_raw_value_Norm',\n",
    " 'Insufficient_sleep_raw_value_Norm',\n",
    " 'Premature_death_raw_value_Norm',\n",
    " 'Excessive_drinking_raw_value_Norm',\n",
    " 'Unemployment_raw_value_Norm',\n",
    " 'Life_expectancy_raw_value_Norm',\n",
    " 'Homicides_raw_value_Norm',\n",
    " 'Violent_crime_raw_value_Norm' ,\n",
    " 'Drug_overdose_deaths_raw_value_log',\n",
    " 'Injury_deaths_raw_value_log',\n",
    " 'Adult_smoking_raw_value_log',\n",
    " 'Firearm_fatalities_raw_value_log',\n",
    " 'Insufficient_sleep_raw_value_log',\n",
    " 'Premature_death_raw_value_log',\n",
    " 'Excessive_drinking_raw_value_log',\n",
    " 'Unemployment_raw_value_log',\n",
    " 'Life_expectancy_raw_value_log',\n",
    " 'Homicides_raw_value_log', 'Violent_crime_raw_value_log']]\n",
    "\n",
    "#Store all the variables\n",
    "variables = variables.columns"
   ]
  },
  {
   "cell_type": "markdown",
   "id": "c1ed12e2",
   "metadata": {},
   "source": [
    "#### Creating a dashboard with Data Table , Map , dropdowns to select the state and variables of interest , radio buttons to toggle between linear and log variables."
   ]
  },
  {
   "cell_type": "markdown",
   "id": "0cbf5e5f",
   "metadata": {},
   "source": [
    "\n",
    "I used the states and variables column which I created above and used in the dropdown component to display the values. The state and the variables dropdown have radiobuttons linear and log. One to control the opiod deaths either linear or log value and the other is for the variables. The graph generated in the dashboard, x-axis is constant with deaths column and the only changing parameter is the y-axis. The dashboard also has a map which is linked to the dropdown. So on click of a particular state the data table should display the values for the chosen state. "
   ]
  },
  {
   "cell_type": "code",
   "execution_count": 9,
   "id": "be9c604e",
   "metadata": {},
   "outputs": [
    {
     "name": "stdout",
     "output_type": "stream",
     "text": [
      "Dash app running on http://127.0.0.1:8081/\n"
     ]
    }
   ],
   "source": [
    "import statsmodels.formula.api as smf\n",
    "app = JupyterDash(__name__)\n",
    "PAGE_SIZE = 10\n",
    "app.layout = html.Div([\n",
    "    html.H1(\"OPIOD MORTALITY DASHBOARD\" , style={'textAlign': 'center'}),\n",
    "    html.P(\"This is a simple opiod dashboard to view the variables that affect opiod mortality rate. The dashboard allows you to select a state and also the variables of interest to view the linear and log graph. The dashboard also has a Map display which gives the county wise information of the variables.\"),\n",
    "    dcc.Graph(id='fig'),\n",
    "    \n",
    "    \n",
    "    html.Div([\n",
    "\n",
    "        html.Div([\n",
    "            dcc.Dropdown(states, 'NC',\n",
    "                id='state-dropdown',\n",
    "            ),\n",
    "            dcc.RadioItems(\n",
    "                ['Non-Linear', 'Log'],\n",
    "                'Non-Linear',\n",
    "                id='radio-button-norm_deaths',\n",
    "                labelStyle={'display': 'inline-block', 'marginTop': '5px'}\n",
    "            )\n",
    "        ],\n",
    "        style={'width': '49%', 'display': 'inline-block'}),\n",
    "\n",
    "        html.Div([\n",
    "            dcc.Dropdown( variables,\n",
    "                'Life_expectancy_raw_value_Norm',\n",
    "                id='variables-dropdown'\n",
    "            ),\n",
    "            dcc.RadioItems(\n",
    "                ['Non-Linear', 'Log'],\n",
    "                'Non-Linear',\n",
    "                id='radio-button',\n",
    "                labelStyle={'display': 'inline-block', 'marginTop': '5px'}\n",
    "            )\n",
    "        ], style={'width': '49%', 'float': 'right', 'display': 'inline-block'})\n",
    "    ], style={\n",
    "        'padding': '10px 5px'\n",
    "    }),\n",
    " \n",
    "    html.Div([  \n",
    "    dcc.RadioItems(\n",
    "    id = 'map-graph',\n",
    "\n",
    "    options=[{'label': 'graph', 'value': 'graph'},{'label': 'Map', 'value': 'Map'}],\n",
    "    value='graph' )]),\n",
    "     \n",
    "    html.H1(\"Data Table\" , style={'textAlign': 'center'}),\n",
    "\n",
    "    \n",
    "    html.Div([\n",
    "    dash_table.DataTable(id=\"table-container\", data = data.to_dict('records') , columns=[{\"name\": i, \"id\": i} for i in data.columns], page_size=PAGE_SIZE,\n",
    "                        style_data={\n",
    "        'color': 'black',\n",
    "        'backgroundColor': 'white'\n",
    "    },\n",
    "    style_data_conditional=[\n",
    "        {\n",
    "            'if': {'row_index': 'odd'},\n",
    "            'backgroundColor': 'rgb(220, 220, 220)'\n",
    "             \n",
    "            \n",
    "        }\n",
    "    ],  style_table={'height': '300px', 'overflowY': 'auto'} , \n",
    "    style_header={\n",
    "        'backgroundColor': 'rgb(210, 210, 210)',\n",
    "        'color': 'black',\n",
    "        'fontWeight': 'bold',\n",
    "       \n",
    "    },\n",
    "                       \n",
    "    ),\n",
    "]\n",
    ")\n",
    " \n",
    "    \n",
    "])\n",
    "\n",
    "# Define callback to update\n",
    "@app.callback(\n",
    "    Output('fig', 'figure'),\n",
    "    Output(\"table-container\", \"data\"), \n",
    "    Input('state-dropdown', 'value'),\n",
    "    Input('variables-dropdown', 'value') , \n",
    "    Input('radio-button', 'value') ,\n",
    "    Input('radio-button-norm_deaths', 'value'),\n",
    "    Input('map-graph', 'value')\n",
    "    )\n",
    "\n",
    "def update_figure(value , value1 , value2 , value3 , value4):\n",
    "    df = data[data['State'] == value]\n",
    "    \n",
    "    if value4 == 'graph':\n",
    "        \n",
    "        if value2 == 'Non-Linear' and value3 == 'Non-Linear':\n",
    "           \n",
    "            fig1 = px.scatter(df, x='Norm_deaths', y = value1 , trendline=\"lowess\", trendline_color_override=\"red\" ,  color = \"State\" )\n",
    "            fig1.update_traces(marker={'size': 15})\n",
    "            return fig1 , df.to_dict('records')\n",
    "    \n",
    "        elif value2  == 'Non-Linear' and value3 == 'Log':\n",
    "            fig2 = px.scatter(df , x= \"Norm_deaths_log\", y = value1, trendline=\"lowess\", trendline_color_override=\"red\" , color = \"State\")\n",
    "            fig2.update_traces(marker={'size': 15})\n",
    "            return fig2 , df.to_dict('records')\n",
    "        \n",
    "\n",
    "        elif value2  == 'Log' and value3 == 'Non-Linear':\n",
    "            fig3 = px.scatter( df , x= \"Norm_deaths\", y = value1, trendline=\"lowess\",  trendline_color_override=\"red\" , color = \"State\")\n",
    "            fig3.update_traces(marker={'size': 15})\n",
    "            return fig3, df.to_dict('records')\n",
    "\n",
    "        elif value2  == 'Log' and value3 == 'Log':\n",
    "            fig4 = px.scatter( df , x= \"Norm_deaths_log\", y = value1, trendline=\"lowess\", trendline_color_override=\"red\",  color = \"State\")\n",
    "            fig4.update_traces(marker={'size': 15})\n",
    "            return fig4, df.to_dict('records')\n",
    "     \n",
    "    elif value4 == 'Map':\n",
    "        with urlopen('https://raw.githubusercontent.com/plotly/datasets/master/geojson-counties-fips.json') as response:\n",
    "            counties = json.load(response)\n",
    "\n",
    "        dff = data\n",
    "        #dff = data[data['State'] == value]\n",
    "        fig5 = px.choropleth(dff, geojson=counties, locations='County Code', color = value1,\n",
    "                                   color_continuous_scale=\"Viridis\",\n",
    "                                   range_color=(dff[value1].min(),dff[value1].max()),\n",
    "                                   scope=\"usa\",\n",
    "                                   labels={'Norm_deaths':'Norm Deaths'}\n",
    "                                  )\n",
    "        fig5.update_layout(margin={\"r\":0,\"t\":0,\"l\":0,\"b\":0})\n",
    "        return fig5, df.to_dict('records')\n",
    "    \n",
    "\n",
    "    \n",
    "    \n",
    "# Run app and display \n",
    "if __name__ == '__main__':\n",
    "    app.run_server(debug=True , port = 8081)"
   ]
  },
  {
   "cell_type": "markdown",
   "id": "978ca718",
   "metadata": {},
   "source": [
    "### Screenshots"
   ]
  },
  {
   "cell_type": "markdown",
   "id": "76268d81",
   "metadata": {},
   "source": [
    "<b>1. DataTable <br><br>\n",
    "<img src=\"datatable.png\" width=2000 height=3000 />"
   ]
  },
  {
   "cell_type": "markdown",
   "id": "8cbf0e06",
   "metadata": {},
   "source": [
    "<b>2. Map <br><br>\n",
    "<img src=\"newplot.png\" width=2000 height=3000 />"
   ]
  },
  {
   "cell_type": "markdown",
   "id": "c4552c5d",
   "metadata": {},
   "source": [
    "<b>3.  Non Linear deaths and Non Linear Variable <br><br>\n",
    "<img src=\"NN.png\" width=2000 height=3000 />"
   ]
  },
  {
   "cell_type": "markdown",
   "id": "8118a2cc",
   "metadata": {},
   "source": [
    "<b>4. Non linear Deaths and Log variables <br><br>\n",
    "<img src=\"NL.png\" width=2000 height=3000 />"
   ]
  },
  {
   "cell_type": "markdown",
   "id": "b546ddf0",
   "metadata": {},
   "source": [
    "<b>5. Log Deaths and Log variables <br><br>\n",
    "<img src=\"LL.png\" width=2000 height=3000 />"
   ]
  },
  {
   "cell_type": "markdown",
   "id": "d746346c",
   "metadata": {},
   "source": [
    "<b>6. Log Deaths and Non Linear variables <br><br>\n",
    "<img src=\"LNL.png\" width=2000 height=3000 />"
   ]
  },
  {
   "cell_type": "markdown",
   "id": "6a89cd50",
   "metadata": {},
   "source": [
    "#### References: \n",
    "    \n",
    "* https://dash.plotly.com/datatable#:~:text=DataTable%20)%20is%20an%20interactive%20table,completely%20customizable%20through%20its%20properties.\n",
    "\n",
    "* https://dash.plotly.com/datatable/style\n",
    "\n",
    "* https://dash.plotly.com/datatable/dropdowns\n",
    "\n",
    "* https://www.youtube.com/watch?v=stgbYj1QqsA&t=716s\n",
    "\n",
    "* https://plotly.com/python/linear-fits/\n",
    "\n",
    "* https://dash.plotly.com/interactive-graphing?_gl=1*1wezxz3*_ga*MTQ1MjU1NTY1LjE2NjY2MzgyMDM.*_ga_6G7EE0JNSC*MTY2OTkzNTAyOS4yNS4xLjE2Njk5MzUwNzUuMC4wLjA.#update-graphs-on-hover"
   ]
  },
  {
   "cell_type": "markdown",
   "id": "53a94d6c",
   "metadata": {},
   "source": [
    "%% html\n",
    "< img src=\"LL.png\" width=2000 height=3000 />"
   ]
  },
  {
   "cell_type": "code",
   "execution_count": 11,
   "id": "f5219fee",
   "metadata": {},
   "outputs": [
    {
     "name": "stderr",
     "output_type": "stream",
     "text": [
      "'[LL.png]' is not recognized as an internal or external command,\n",
      "operable program or batch file.\n"
     ]
    }
   ],
   "source": [
    "![LL.png](attachment:LL.png)\n"
   ]
  },
  {
   "cell_type": "code",
   "execution_count": 12,
   "id": "ef19454c",
   "metadata": {},
   "outputs": [
    {
     "data": {
      "image/png": "[encoded data removed]",
      "text/plain": [
       "<IPython.core.display.Image object>"
      ]
     },
     "execution_count": 12,
     "metadata": {
      "image/png": {
       "height": 400,
       "width": 800
      }
     },
     "output_type": "execute_result"
    }
   ],
   "source": [
    "from IPython.display import Image\n",
    "Image(filename='LL.png',width=800, height=400)"
   ]
  },
  {
   "cell_type": "code",
   "execution_count": null,
   "id": "df739675",
   "metadata": {},
   "outputs": [],
   "source": []
  }
 ],
 "metadata": {
  "kernelspec": {
   "display_name": "Python 3 (ipykernel)",
   "language": "python",
   "name": "python3"
  },
  "language_info": {
   "codemirror_mode": {
    "name": "ipython",
    "version": 3
   },
   "file_extension": ".py",
   "mimetype": "text/x-python",
   "name": "python",
   "nbconvert_exporter": "python",
   "pygments_lexer": "ipython3",
   "version": "3.9.13"
  }
 },
 "nbformat": 4,
 "nbformat_minor": 5
}
